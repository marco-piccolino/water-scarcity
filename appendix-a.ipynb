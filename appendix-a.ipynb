{
 "cells": [
  {
   "cell_type": "markdown",
   "id": "053d75d6-b786-4475-959b-6191f2f86cf4",
   "metadata": {},
   "source": [
    "# Appendix A: Key definitions\n",
    "\n",
    "## Water scarcity\n",
    "\n",
    "As already hinted above, according to UN Water\n",
    "> Water scarcity can mean scarcity in availability due to physical shortage, or scarcity in access due to the failure of institutions to ensure a regular supply or due to a lack of adequate infrastructure. [UN, Water, 2022]<!---(#un-water-2022)-->\n",
    "\n",
    "Given these different factors, we'd want to investigate which of these elements is the **prevailing** one in specific contexts. Yet, in this work, pinpointing the **deep causes** for each scenario, in a _systems thinking_ fashion (see e.g. [Kim, Systems, 1999]) will not be practically attainable.\n",
    "\n",
    "*<a id=\"un-water-2022\"></a>[UN, Water, 2022] UN. Retrieved Aug. 2022. [Water scarcity](https://www.unwater.org/water-facts/water-scarcity). UN Water portal.*\n",
    "\n",
    "*<a id=\"kim-systems-1999\"></a>[Kim, Systems, 1999] Kim, Daniel H. 1999. [Introduction to Systems Thinking](https://thesystemsthinker.com/introduction-to-systems-thinking/).*\n",
    "\n",
    "## Small-scale farmers\n",
    "\n",
    "FAO defines _small-scale farming_ based on various indicators, e.g.:\n",
    "> - farms “with a low asset base and operating in less than 2 hectares of cropland” (World Bank Rural Development Strategy, 2003);  \n",
    "> - operating under structural constraints such as access to sub-optimal amounts of resources, technology and markets;  \n",
    "> - limited resource endowment compared to those of other farmers in the sector (Dixon et al., 2004);  \n",
    "> - struggle to be competitive […] (Brooks et al., 2009)  \n",
    "*[FAO, Farmers, 2017]<!---(#fao-farmers-2017)-->*\n",
    "\n",
    "These definitions go beyond the intuitive association between \"small-scale\" and **farm size or extension** (less than 2 ha of cropland), including instead also **assets, resources, technology, markets** and **competitiveness**.  \n",
    "We shall thus keep all these factors in mind when thinking about small-scale farming.\n",
    "\n",
    "*<a id=\"fao-farmers-2017\"></a>[FAO, Farmers, 2017] FAO. 2017. [Defining small-scale food producers to monitor target 2.3 of the 2030 Agenda for sustainable development](https://leap.unep.org/knowledge/glossary/small-scale-farming). Via UNEP LEO Thesarus.*\n",
    "\n",
    "## Traditional knowledge\n",
    "\n",
    "In 2002, UN's International Council for Science provided the following \"traditional knowledge\" definition:\n",
    "> a cumulative body of knowledge, know-how, practices and representations maintained and developed by peoples with extended histories of interaction with the natural environment. These sophisticated sets of understandings, interpretations and meanings are part and parcel of a cultural complex that encompasses language, naming and classification systems, resource use practices, ritual, spirituality and worldview \\[...\\]. Traditional knowledge provides the basis for local-level decision-making about many fundamental aspects of day-to-day life \\[...\\]\n",
    "*[ICS, Traditional, 2002]<!---(#ics-traditional-2002)-->*\n",
    "\n",
    "This definition lists several aspects of life where traditional knowledge can be applied and provide the basis for **decision-making**. Among these (continued after the citation) **agriculture**; **location, collection and storage of water**; **management of ecological relations of society and nature**; **adaptation to environmental/social change**. Also, a strong link is established between **know-how** and **practice**, framing traditional knowledge as a source of **technology**.\n",
    "\n",
    "*<a id=\"ics-traditional-2002\"></a>[ICS, Traditional, 2002] ICS. 2002. [Science and Traditional Knowledge](https://council.science/wp-content/uploads/2017/05/Science-traditional-knowledge.pdf).* ICS Portal."
   ]
  },
  {
   "cell_type": "code",
   "execution_count": null,
   "id": "099e09cd-c777-4cf5-9254-95c55bbd7564",
   "metadata": {},
   "outputs": [],
   "source": []
  }
 ],
 "metadata": {
  "kernelspec": {
   "display_name": "Python 3 (ipykernel)",
   "language": "python",
   "name": "python3"
  },
  "language_info": {
   "codemirror_mode": {
    "name": "ipython",
    "version": 3
   },
   "file_extension": ".py",
   "mimetype": "text/x-python",
   "name": "python",
   "nbconvert_exporter": "python",
   "pygments_lexer": "ipython3",
   "version": "3.10.1"
  }
 },
 "nbformat": 4,
 "nbformat_minor": 5
}
