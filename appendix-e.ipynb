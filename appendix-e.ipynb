{
 "cells": [
  {
   "cell_type": "markdown",
   "id": "222bc1c8-2d73-4014-97ab-ca1eff4a6b1f",
   "metadata": {},
   "source": [
    "# Appendix E: Interviews"
   ]
  },
  {
   "cell_type": "markdown",
   "id": "925b2a6d-67c2-42e6-9d5a-c98417b1eea8",
   "metadata": {
    "tags": []
   },
   "source": [
    "## Mohammed Mediani on reviving the Foggaras irrigation system"
   ]
  },
  {
   "cell_type": "markdown",
   "id": "9d8f1704-ff26-4827-9ef6-d5cb0faa4b9e",
   "metadata": {},
   "source": [
    "## Roberto Verzino on frugal technologies to overcome water scarcity"
   ]
  },
  {
   "cell_type": "code",
   "execution_count": null,
   "id": "a66ecad0-41b9-4612-b66f-1772ea8d725a",
   "metadata": {},
   "outputs": [],
   "source": []
  }
 ],
 "metadata": {
  "kernelspec": {
   "display_name": "Python 3 (ipykernel)",
   "language": "python",
   "name": "python3"
  },
  "language_info": {
   "codemirror_mode": {
    "name": "ipython",
    "version": 3
   },
   "file_extension": ".py",
   "mimetype": "text/x-python",
   "name": "python",
   "nbconvert_exporter": "python",
   "pygments_lexer": "ipython3",
   "version": "3.10.1"
  }
 },
 "nbformat": 4,
 "nbformat_minor": 5
}
