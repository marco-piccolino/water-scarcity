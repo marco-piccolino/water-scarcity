{
 "cells": [
  {
   "cell_type": "markdown",
   "id": "35aeeb77-c6b2-4a11-a5f8-cc852a36b32d",
   "metadata": {
    "tags": []
   },
   "source": [
    "# Responding to water scarcity in small farming: tradition and innovation\n",
    "by Marco Aldo PICCOLINO BONIFORTI  \n",
    "ICT4D Master, University of Turin, 2022  \n",
    "License: Creative Commons, Attribution-NonCommercial 4.0 International\n",
    " ([CC BY-NC 4.0](https://creativecommons.org/licenses/by-nc/4.0/))\n",
    " \n",
    "[![Binder](https://mybinder.org/badge_logo.svg)](https://mybinder.org/v2/gh/marco-piccolino/water-scarcity/HEAD?urlpath=voila%2Frender%2Findex.ipynb)\n",
    "\n",
    "## Research questions\n",
    "1. How are **small-scale farmers** tackling the issue of **water scarcity**?\n",
    "2. Can solutions involving **ICT help mitigate** the **causes**, or the **effects**, of water scarcity?\n",
    "3. Can solutions involving **ICT interact** and **co-exist** with solutions involving use of **traditional knowledge and techniques**?\n",
    "\n",
    "**Regional and social focus** of the research will be narrowed down after a first survey of available **resources and opportunities**.\n",
    "\n",
    "## Activities\n",
    "- carry out a **survey** of **available resources and opportunities**\n",
    "- elaborate a detailed **research proposal**, outlining specific **goals and methods**\n",
    "- undertake all required **steps to give an adequate answer** to the three main research questions\n",
    "- **interact with tutors, mentors and other stakeholders** on a regular basis, to **gain insights and share interim results**\n",
    "\n",
    "The **expected outcome** is a **report** that can be leveraged for different purposes, including **mapping innovators** who are active in the field of water scarcity mitigation and **highlighting relevant ICT technologies**."
   ]
  },
  {
   "cell_type": "markdown",
   "id": "bab1519f-9432-435a-ae27-4c880e4cd532",
   "metadata": {},
   "source": [
    "# Methodological outline\n",
    "\n",
    "## Key definitions"
   ]
  },
  {
   "cell_type": "markdown",
   "id": "b8ce4717-5aad-4d28-953d-2c364887d1cc",
   "metadata": {},
   "source": [
    "### Water scarcity\n",
    "\n",
    "According to UN Water,\n",
    "> Water scarcity can mean scarcity in availability due to physical shortage, or scarcity in access due to the failure of institutions to ensure a regular supply or due to a lack of adequate infrastructure.\n",
    "[Retrieved 31/8/2022](https://www.unwater.org/water-facts/scarcity)\n",
    "\n",
    "This definition highlights multiple sources for this condition: the **environmental**, the **socio-political**, the **infrastructural**.\n",
    "Hence, for the contexts that we analyse, we will try to understand which of these elements is the **prevailing** one (as the distinction, in most cases, won't be clear-cut). Yet, given the limited scope of this research, pinpointing the **deep causes** of the phenomenon, in a _systems thinking_ fashion (see e.g. [Introduction to Systems Thinking - Retrieved 31/8/2022](https://thesystemsthinker.com/introduction-to-systems-thinking/)), will not be practically attainable."
   ]
  },
  {
   "cell_type": "markdown",
   "id": "e7d162a3-6926-417c-8114-a936c26067b9",
   "metadata": {},
   "source": [
    "### Small-scale farmers\n",
    "\n",
    "UN's LEO Thesaurus defines _small-scale farming_ as something that can be _variably_ defined, e.g.\n",
    "> farms “with a low asset base and operating in less than 2 hectares of cropland” (World Bank Rural Development Strategy, 2003);  \n",
    "> operating under structural constraints such as access to sub-optimal amounts of resources, technology and markets;  \n",
    "> limited resource endowment compared to those of other farmers in the sector (Dixon et al., 2004);  \n",
    "> struggle to be competitive (…) (Brooks et al., 2009)  \n",
    "[Retrieved 31/8/2022](https://leap.unep.org/knowledge/glossary/small-scale-farming)\n",
    "\n",
    "These definitions go beyond the intuitive association between \"small-scale\" and **farm size or extension**, including instead also **assets, resources, technology, markets, competitiveness**.  \n",
    "Indeed, \"limited resource endowment compared to those of other farmers in the sector\" seems to provide a still vague, but at least _relative_ definition, rather than a less useful absolute one. A relative definition requires taking into account the operating environment in which a group of people devote themselves to farming.\n",
    "\n"
   ]
  },
  {
   "cell_type": "markdown",
   "id": "75f663af-3c86-4ef3-b1d1-905dff06f067",
   "metadata": {},
   "source": [
    "### Traditional knowledge and techniques"
   ]
  },
  {
   "cell_type": "code",
   "execution_count": null,
   "id": "2ef55f79-0b89-4e5b-8571-ddcb6f64fc4a",
   "metadata": {},
   "outputs": [],
   "source": []
  }
 ],
 "metadata": {
  "kernelspec": {
   "display_name": "Python 3 (ipykernel)",
   "language": "python",
   "name": "python3"
  },
  "language_info": {
   "codemirror_mode": {
    "name": "ipython",
    "version": 3
   },
   "file_extension": ".py",
   "mimetype": "text/x-python",
   "name": "python",
   "nbconvert_exporter": "python",
   "pygments_lexer": "ipython3",
   "version": "3.10.1"
  }
 },
 "nbformat": 4,
 "nbformat_minor": 5
}
