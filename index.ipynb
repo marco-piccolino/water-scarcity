{
 "cells": [
  {
   "cell_type": "markdown",
   "id": "35aeeb77-c6b2-4a11-a5f8-cc852a36b32d",
   "metadata": {
    "tags": []
   },
   "source": [
    "# Responding to water scarcity in small farming: tradition and innovation\n",
    "by Marco Aldo PICCOLINO BONIFORTI  \n",
    "ICT4D Master, University of Turin, 2022  \n",
    "License: Creative Commons, Attribution-NonCommercial 4.0 International\n",
    " ([CC BY-NC 4.0](https://creativecommons.org/licenses/by-nc/4.0/))\n",
    " \n",
    "[![Binder](https://mybinder.org/badge_logo.svg)](https://mybinder.org/v2/gh/marco-piccolino/water-scarcity/HEAD?urlpath=voila%2Frender%2Findex.ipynb)\n",
    "\n",
    "## Research questions\n",
    "1. How are **small-scale farmers** tackling the issue of **water scarcity**?\n",
    "2. Can solutions involving **ICT help mitigate** the **causes**, or the **effects**, of water scarcity?\n",
    "3. Can solutions involving **ICT interact** and **co-exist** with solutions involving use of **traditional knowledge and techniques**?\n",
    "\n",
    "**Regional and social focus** of the research will be narrowed down after a first survey of available **resources and opportunities**.\n",
    "\n",
    "## Activities\n",
    "- carry out a **survey** of **available resources and opportunities**\n",
    "- elaborate a detailed **research proposal**, outlining specific **goals and methods**\n",
    "- undertake all required **steps to give an adequate answer** to the three main research questions\n",
    "- **interact with tutors, mentors and other stakeholders** on a regular basis, to **gain insights and share interim results**\n",
    "\n",
    "The **expected outcome** is a **report** that can be leveraged for different purposes, including **mapping innovators** who are active in the field of water scarcity mitigation and **highlighting relevant ICT technologies**."
   ]
  },
  {
   "cell_type": "markdown",
   "id": "bab1519f-9432-435a-ae27-4c880e4cd532",
   "metadata": {},
   "source": [
    "# Methodological outline\n",
    "\n",
    "## Key definitions"
   ]
  },
  {
   "cell_type": "markdown",
   "id": "e7d162a3-6926-417c-8114-a936c26067b9",
   "metadata": {},
   "source": [
    "### Small-scale farmers\n",
    "\n",
    "[Better Borrowing to Promote Access to Water and Improve Dairy Farming in Kenya](https://basis.ucdavis.edu/project/better-borrowing-promote-access-water-and-improve-dairy-farming-kenya)  \n",
    "[Irrigation, Property Rights and Land Markets for Resilient Growth in Rwanda and Senegal](https://basis.ucdavis.edu/project/irrigation-property-rights-and-land-markets-resilient-growth-rwanda-and-senegal)  "
   ]
  },
  {
   "cell_type": "markdown",
   "id": "b8ce4717-5aad-4d28-953d-2c364887d1cc",
   "metadata": {},
   "source": [
    "### Water scarcity"
   ]
  },
  {
   "cell_type": "markdown",
   "id": "75f663af-3c86-4ef3-b1d1-905dff06f067",
   "metadata": {},
   "source": [
    "### Traditional knowledge and techniques"
   ]
  },
  {
   "cell_type": "code",
   "execution_count": null,
   "id": "2ef55f79-0b89-4e5b-8571-ddcb6f64fc4a",
   "metadata": {},
   "outputs": [],
   "source": []
  }
 ],
 "metadata": {
  "kernelspec": {
   "display_name": "Python 3 (ipykernel)",
   "language": "python",
   "name": "python3"
  },
  "language_info": {
   "codemirror_mode": {
    "name": "ipython",
    "version": 3
   },
   "file_extension": ".py",
   "mimetype": "text/x-python",
   "name": "python",
   "nbconvert_exporter": "python",
   "pygments_lexer": "ipython3",
   "version": "3.10.1"
  }
 },
 "nbformat": 4,
 "nbformat_minor": 5
}
