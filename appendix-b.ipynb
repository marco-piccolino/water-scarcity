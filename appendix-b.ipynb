{
 "cells": [
  {
   "cell_type": "markdown",
   "id": "2dfc5334-17ca-41ed-b55b-6c72a275d84e",
   "metadata": {
    "tags": []
   },
   "source": [
    "# Appendix B: Resources\n",
    "## Water scarcity\n",
    "- [Water scarcity (UNICEF)](https://www.unicef.org/wash/water-scarcity)\n",
    "- [inter-Regional Technical Platform on Water Scarcity (iRTP-WS)](https://www.fao.org/platforms/water-scarcity/en)"
   ]
  },
  {
   "cell_type": "markdown",
   "id": "fb1972dc-2676-48d6-9f4e-d50cac219986",
   "metadata": {},
   "source": [
    "## Water scarcity vs Drought\n",
    "- [Water scarcity, drought and challenges related to climate change. by Michel Jarraud Secretary General Emeritus WMO (preso)](https://unece.org/fileadmin/DAM/env/documents/2017/WAT/12Dec_11-12_Scarcity_WS/presentations/S0-3_MichelJarraud_Keynote_speech_v2.pdf)\n",
    "- [Making the distinction between water scarcity and drought using an observation-modeling framework (academic)](https://agupubs.onlinelibrary.wiley.com/doi/full/10.1002/wrcr.20147)"
   ]
  },
  {
   "cell_type": "markdown",
   "id": "f9e0393c-8d02-4f82-8740-f9833c183076",
   "metadata": {
    "tags": []
   },
   "source": [
    "## Drought\n",
    "- [World ‘at a crossroads’ as droughts increase nearly a third in a generation (UN)](https://news.un.org/en/story/2022/05/1118142)\n",
    "- [Drought report (UNCCD)](https://www.unccd.int/resources/publications/drought-numbers)\n",
    "### Drought specific databases and portals\n",
    "#### The United Nations Convention to Combat Desertification (UNCCD) – Drought Toolbox:\n",
    "https://knowledge.unccd.int/drought-toolbox  \n",
    "The UNCCD developed the drought toolbox for providing drought stakeholders with easy access to resources to support action on drought preparedness to boost the resilience of people and ecosystems.\n",
    "#### Drought Calculator:\n",
    "https://www.nrcs.usda.gov/wps/portal/nrcs/detail/nd/technical/landuse/pasture/?cid=nrcs141p2_001670  \n",
    "The U.S. Department of Agriculture developed the drought calculator to assist ranchers and rangeland managers in assessing the impacts of drought on healthy rangelands and make informed decisions for drought preparedness strategies.\n",
    "#### The International Disaster Database:\n",
    "www.emdat.be/database  \n",
    "The Centre for Research on the Epidemiology of Disasters – CRED, Université Catholique de Louvain provides information on the human impact of disasters - such as the number of people killed, injured, or affected for vulnerability assessment and rational decision-making in disaster situations\n",
    "#### United Nations Office for Disaster Risk Reduction (UNDDR) Preventionweb – Drought Solutions:\n",
    "www.preventionweb.net/collections/drought-solutions  \n",
    "The UNDDR collected stories and research regarding different drainage solutions\n",
    "#### EDO – European Drought Observatory/GDO – Global Drought Observatory:\n",
    "https://edo.jrc.ec.europa.eu/gdo/php/index.php?id=2101  \n",
    "The EDO/GDO pages contain drought-relevant information such as maps of indicators derived from different data sources (e.g., precipitation measurements, satellite measurements, modeled soil moisture content).\n",
    "#### The FAO Drought Portal:\n",
    "www.fao.org/land-water/water/drought/drought-portal/en/  \n",
    "The FAO Drought Portal collates tools, methodologies, publications, and best practices from different disciplines to support informed decision-making and promote integrated drought management in agriculture."
   ]
  },
  {
   "cell_type": "markdown",
   "id": "37c2bea6-0f19-463b-b586-869b7a9b6693",
   "metadata": {},
   "source": [
    "# Non technology-related solutions\n",
    "- [Better Borrowing to Promote Access to Water and Improve Dairy Farming in Kenya](https://basis.ucdavis.edu/project/better-borrowing-promote-access-water-and-improve-dairy-farming-kenya)  \n",
    "- [Irrigation, Property Rights and Land Markets for Resilient Growth in Rwanda and Senegal](https://basis.ucdavis.edu/project/irrigation-property-rights-and-land-markets-resilient-growth-rwanda-and-senegal)  \n",
    "## Communities\n",
    "- [Rural Water Supply Network](https://www.rural-water-supply.net/en/)\n",
    "## Strategies\n",
    "- [Multiple-Use Water Services](https://www.rural-water-supply.net/_ressources/documents/default/1-1056-59-1646886125.pdf)\n",
    "- [FAO's Global Framework on Water Scarcity in Agriculture - WASAG](https://www.fao.org/land-water/overview/WASAG)"
   ]
  },
  {
   "cell_type": "markdown",
   "id": "ed2c0ea2-f8c6-46eb-98dc-d1b189b2fd47",
   "metadata": {},
   "source": [
    "# ICT-enabled technologies\n",
    "\n",
    "- [Agriculture and drought: how technology can make every drop count (Varda)](https://varda.ag/blog/14-blog/trends-and-topics/46-agriculture-drought)\n",
    "- [Technological Innovations for Rural Water Supply in Low-resource Settings](https://rural-water-supply.net/en/collaborations/details/129)"
   ]
  },
  {
   "cell_type": "markdown",
   "id": "99e2cfa2-3dbd-4f3f-a1d4-31e20527264c",
   "metadata": {},
   "source": [
    "## Soil Moisture-based sensors & controllers\n",
    "### Principles\n",
    "- [Tensiometric irrigation (Wiki)](https://en.wikipedia.org/wiki/Tensiometer_(soil_science))\n",
    "- [Soil Moisture-Based Irrigation Controllers (USA-EPA)](https://www.epa.gov/watersense/soil-moisture-based-irrigation-controllers)\n",
    "- [& Background materials (USA-EPA)](https://www.epa.gov/watersense/product-background-materials#sms)\n",
    "- [Smart Watering With Soil Moisture-Based Irrigation Controllers (USA-EPA) PDF](https://www.epa.gov/sites/default/files/2021-04/documents/ws-outdoor-products-sms_mini-report.pdf)\n",
    "\n",
    "### Examples\n",
    "- [Flowteal Magi (private)](https://github.com/tealblue-team/flowteal-magi)\n",
    "- [WAPOR (FAO)](https://wapor.apps.fao.org/home/WAPOR_2/1)\n",
    "- [SWRC Fit](http://seki.webmasters.gr.jp/swrc/)"
   ]
  },
  {
   "cell_type": "markdown",
   "id": "beb217e8-14b8-4cb4-b5be-f0fda0284565",
   "metadata": {},
   "source": [
    "## Weather-based sensors & controllers\n",
    "- [Weather-Based Irrigation Controllers (USA-EPA)](https://www.epa.gov/watersense/weather-based-irrigation-controllers)\n",
    "- [& Background materials (USA-EPA)](https://www.epa.gov/watersense/product-background-materials#wbic)\n",
    "- [& Rebates](https://lookforwatersense.epa.gov/rebates/)"
   ]
  },
  {
   "cell_type": "markdown",
   "id": "309d9cf7-cb6b-438c-9464-8775baf9149e",
   "metadata": {},
   "source": [
    "## Models\n",
    "- [AquaCrop (FAO)](https://www.fao.org/aquacrop/en/)\n",
    "- [Crop Yield Response to Water (FAO) PDF book](https://www.fao.org/documents/card/en/c/c355da16-217c-555b-acbc-505d87bade00/)\n",
    "- [Self-evaluation and Holistic Assessment of climate Resilience of farmers and Pastoralists (SHARP)](https://www.fao.org/in-action/sharp/en/)\n",
    "- [The global value of water in agriculture (PNAS)](https://www.pnas.org/doi/10.1073/pnas.2005835117)"
   ]
  },
  {
   "cell_type": "markdown",
   "id": "bbc3ecf5-7054-4f87-9995-7d2cd39cefd6",
   "metadata": {},
   "source": [
    "## Hydroponics\n",
    "\n",
    "- [AgriSen (ArcS and GIN)](https://innovazionesviluppo.org/call/agritube-sviluppo-sostenibile/)"
   ]
  },
  {
   "cell_type": "markdown",
   "id": "8cf9a40a-781d-4637-b9b9-5a7d7335ed6b",
   "metadata": {},
   "source": [
    "# Traditional technologies and techniques\n",
    "- [Traditional knowledge (Pietro Laureano)](https://laureano.it/?news=traditional-knowledge)\n",
    "- [Fighting desertification (Pietro Laureano)](https://laureano.it/?news=fighting-desertification)\n",
    "- [Traditional Knowledge World Bank - Water management (Pietro Laureano)](http://www.tkwb.org/w/index.php?title=C_Water_management)\n",
    "- [Success story: Underground catchment tunnels (foggaras, Algeria, Pietro Laureano)](http://www.tkwb.org/w/index.php/SUCCESS_STORY_UNDERGROUND_CATCHMENT_TUNNELS_O_A_S_I_Project)\n",
    "- And local applications of foggara technique\n",
    "1)[Wadi Saoura](http://www.tkwb.org/w/index.php/LOCAL_APPLICATION_OF_THE_TECHNIQUE_UNDERGROUND_CATCHMENT_TUNNELS_5)\n",
    "2)[Wadi Saoura, Touat and Gourara](http://www.tkwb.org/w/index.php/LOCAL_APPLICATION_OF_THE_TECHNIQUE_UNDERGROUND_CATCHMENT_TUNNELS_14)\n",
    "3)[Tafilalet](http://www.tkwb.org/w/index.php/LOCAL_APPLICATION_OF_THE_TECHNIQUE_UNDERGROUND_CATCHMENT_TUNNELS_3)\n",
    "- [Ipogea (Pietro Laureano)](https://ipogea.org/)\n",
    "- [ITKNet Water Database](https://www.itknet.org/databank/index.php/category/water/)\n",
    "- [Guidance systems a plus for on and edge-row sowing (moisture pathways, Australia, Canola crops)](https://groundcover.grdc.com.au/agronomy/soil-and-nutrition/guidance-systems-a-plus-for-on-and-edge-row-sowing)"
   ]
  },
  {
   "cell_type": "markdown",
   "id": "7b05273b-51cb-49a7-8199-464475c2442c",
   "metadata": {},
   "source": [
    "# Integrated techniques (non-ICT)\n",
    "- [Vallerani system](http://www.vallerani.com/wp/) - [Articolo (Villaggio Globale)](https://www.vglobale.it/2010/06/17/combattere-la-desertificazione-si-puo/) - [Preso](http://www.vallerani.com/wp/wp-content/uploads/2020/03/VS-Eng-2020.pdf)"
   ]
  }
 ],
 "metadata": {
  "kernelspec": {
   "display_name": "Python 3 (ipykernel)",
   "language": "python",
   "name": "python3"
  },
  "language_info": {
   "codemirror_mode": {
    "name": "ipython",
    "version": 3
   },
   "file_extension": ".py",
   "mimetype": "text/x-python",
   "name": "python",
   "nbconvert_exporter": "python",
   "pygments_lexer": "ipython3",
   "version": "3.10.1"
  }
 },
 "nbformat": 4,
 "nbformat_minor": 5
}
