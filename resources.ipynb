{
 "cells": [
  {
   "cell_type": "markdown",
   "id": "37c2bea6-0f19-463b-b586-869b7a9b6693",
   "metadata": {},
   "source": [
    "[Better Borrowing to Promote Access to Water and Improve Dairy Farming in Kenya](https://basis.ucdavis.edu/project/better-borrowing-promote-access-water-and-improve-dairy-farming-kenya)  \n",
    "[Irrigation, Property Rights and Land Markets for Resilient Growth in Rwanda and Senegal](https://basis.ucdavis.edu/project/irrigation-property-rights-and-land-markets-resilient-growth-rwanda-and-senegal)  "
   ]
  }
 ],
 "metadata": {
  "kernelspec": {
   "display_name": "Python 3 (ipykernel)",
   "language": "python",
   "name": "python3"
  },
  "language_info": {
   "codemirror_mode": {
    "name": "ipython",
    "version": 3
   },
   "file_extension": ".py",
   "mimetype": "text/x-python",
   "name": "python",
   "nbconvert_exporter": "python",
   "pygments_lexer": "ipython3",
   "version": "3.10.1"
  }
 },
 "nbformat": 4,
 "nbformat_minor": 5
}
